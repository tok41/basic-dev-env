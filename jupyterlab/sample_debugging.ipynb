{
 "cells": [
  {
   "cell_type": "markdown",
   "id": "481d133b-5a86-4af5-a713-5c902209edb8",
   "metadata": {},
   "source": [
    "# デバッグサンプル\n",
    "\n",
    "これは、VSCodeによるデバッグのサンプルnotebook\n",
    "\n",
    "VSCodeデバッガをアタッチする手順は以下の通り\n",
    "\n",
    "1. VSCodeでデバッガの `launch.json` を作成（リモートアタッチ用）\n",
    "1. VSCodeでデバッガ起動\n",
    "1. jupyterlabでセルを実行　→ ブレークポイントで止まる\n"
   ]
  },
  {
   "cell_type": "code",
   "execution_count": null,
   "id": "693ba7e8-3895-4c54-8714-f7ae5e1bf820",
   "metadata": {},
   "outputs": [],
   "source": [
    "from src.sample import hoge"
   ]
  },
  {
   "cell_type": "code",
   "execution_count": null,
   "id": "5503b5b9-af98-4088-9e91-89ee278d6948",
   "metadata": {},
   "outputs": [],
   "source": [
    "hoge(10.0)"
   ]
  },
  {
   "cell_type": "code",
   "execution_count": null,
   "id": "13839bad-5715-4c5c-afc7-c91ef0ffbd42",
   "metadata": {},
   "outputs": [],
   "source": [
    "hoge(1)"
   ]
  },
  {
   "cell_type": "code",
   "execution_count": null,
   "id": "ed324280-51ae-4f60-9723-52ae63c95629",
   "metadata": {},
   "outputs": [],
   "source": []
  }
 ],
 "metadata": {
  "kernelspec": {
   "display_name": "Python3 Debug",
   "language": "python",
   "name": "debugpy"
  },
  "language_info": {
   "codemirror_mode": {
    "name": "ipython",
    "version": 3
   },
   "file_extension": ".py",
   "mimetype": "text/x-python",
   "name": "python",
   "nbconvert_exporter": "python",
   "pygments_lexer": "ipython3",
   "version": "3.10.5"
  }
 },
 "nbformat": 4,
 "nbformat_minor": 5
}
